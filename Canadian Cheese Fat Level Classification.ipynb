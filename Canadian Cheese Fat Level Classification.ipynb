{
  "cells": [
    {
      "cell_type": "markdown",
      "metadata": {
        "id": "6d0BXHHZfOz6"
      },
      "source": [
        "# Canadian Cheese"
      ]
    },
    {
      "cell_type": "markdown",
      "metadata": {
        "id": "-5ccQqM2fOz8"
      },
      "source": [
        "<div style=\"text-align: right\"> December 19, 2022 </div>\n",
        "\n",
        "<div style=\"text-align: right\"> Final Project by Shiva Dorri </div>"
      ]
    },
    {
      "cell_type": "markdown",
      "metadata": {
        "id": "FntQS_jDfOz8"
      },
      "source": [
        "## Introduction\n",
        "\n",
        "### Question(s) of interests"
      ]
    },
    {
      "cell_type": "markdown",
      "metadata": {
        "id": "Ipb1CROMfOz9"
      },
      "source": [
        "Cheese has been produced in Canada since in either 1608 or 1610, and they were almost entirely farm-made. In 1864, Harvey Farrington started buying Canadian milk in commercial quantities necessary for industrial cheese making and the first commercial factory \"The Pioneer\" was set up in Norwich, Ontario.\n",
        "\n",
        "Canadian cheeses are classified into `six` categories per their moisture content, which are `firm`, `soft`, `semi-soft`, `fresh`, `blue- veined`, and `hard`, with most cheeses being classified as $firm$, $soft$, or $semi-soft$. Canada presently produces over $1,050$ varieties and brands of cheese and more than half of the cheese manufacturers are located in Québec.\n",
        "\n",
        "### Dataset description\n",
        "The data were obtain from Kaggle and follows an Open Government Licence (Canada).\n",
        "In this analysis, I will be investigating a question associated with a dataset regarding the different types of Canadian cheeses dataset. I am interested in finding out a model to predict the fatlevel for cheeses.\n",
        "\n",
        "This is a discrete classification problems, so my options will be KNN, SVM, and logistic regression.\n"
      ]
    },
    {
      "cell_type": "code",
      "execution_count": null,
      "metadata": {
        "id": "Y07_qpQIfOz9",
        "outputId": "0600c1dd-fd60-47ec-a771-830526f5d25e"
      },
      "outputs": [
        {
          "data": {
            "text/plain": [
              "DataTransformerRegistry.enable('data_server')"
            ]
          },
          "execution_count": 88,
          "metadata": {},
          "output_type": "execute_result"
        }
      ],
      "source": [
        "# Import libraries needed\n",
        "\n",
        "import altair as alt\n",
        "import pandas as pd\n",
        "import numpy as np\n",
        "import os\n",
        "\n",
        "from sklearn.model_selection import train_test_split, cross_validate\n",
        "from sklearn.impute import SimpleImputer\n",
        "from sklearn.dummy import DummyClassifier\n",
        "from sklearn.svm import SVC\n",
        "from sklearn.neighbors import KNeighborsClassifier\n",
        "from sklearn.tree import DecisionTreeClassifier\n",
        "from sklearn.pipeline import Pipeline, make_pipeline\n",
        "from sklearn.compose import make_column_transformer\n",
        "from sklearn.preprocessing import OneHotEncoder, StandardScaler, OrdinalEncoder\n",
        "from sklearn.ensemble import RandomForestClassifier\n",
        "from sklearn.model_selection import RandomizedSearchCV, GridSearchCV\n",
        "from sklearn.preprocessing import (\n",
        "    FunctionTransformer,\n",
        "    Normalizer,\n",
        "    OneHotEncoder,\n",
        "    StandardScaler,\n",
        "    normalize,\n",
        "    scale)\n",
        "from sklearn.metrics import plot_confusion_matrix, classification_report\n",
        "from sklearn.metrics import accuracy_score, precision_score, recall_score, f1_score\n",
        "from sklearn.linear_model import LogisticRegression\n",
        "import scipy\n",
        "from scipy import integrate, special, stats\n",
        "from scipy.stats import lognorm, loguniform, randint\n",
        "from sklearn.metrics import make_scorer\n",
        "\n",
        "alt.data_transformers.enable(\"data_server\")"
      ]
    },
    {
      "cell_type": "markdown",
      "metadata": {
        "id": "7OmYI8oZfOz_"
      },
      "source": [
        "## 1. Introducing and Exploring the dataset <a name=\"1\"></a>"
      ]
    },
    {
      "cell_type": "code",
      "execution_count": null,
      "metadata": {
        "id": "8QSrDpCgfO0A",
        "outputId": "20786978-9e79-48df-d8ae-a3941e0d60fa"
      },
      "outputs": [
        {
          "data": {
            "text/html": [
              "<div>\n",
              "<style scoped>\n",
              "    .dataframe tbody tr th:only-of-type {\n",
              "        vertical-align: middle;\n",
              "    }\n",
              "\n",
              "    .dataframe tbody tr th {\n",
              "        vertical-align: top;\n",
              "    }\n",
              "\n",
              "    .dataframe thead th {\n",
              "        text-align: right;\n",
              "    }\n",
              "</style>\n",
              "<table border=\"1\" class=\"dataframe\">\n",
              "  <thead>\n",
              "    <tr style=\"text-align: right;\">\n",
              "      <th></th>\n",
              "      <th>ManufacturerProvCode</th>\n",
              "      <th>ManufacturingTypeEn</th>\n",
              "      <th>MoisturePercent</th>\n",
              "      <th>Organic</th>\n",
              "      <th>CategoryTypeEn</th>\n",
              "      <th>MilkTypeEn</th>\n",
              "      <th>MilkTreatmentTypeEn</th>\n",
              "      <th>CheeseName</th>\n",
              "      <th>FatLevel</th>\n",
              "    </tr>\n",
              "  </thead>\n",
              "  <tbody>\n",
              "    <tr>\n",
              "      <th>0</th>\n",
              "      <td>NB</td>\n",
              "      <td>Farmstead</td>\n",
              "      <td>47.0</td>\n",
              "      <td>0</td>\n",
              "      <td>Firm Cheese</td>\n",
              "      <td>Ewe</td>\n",
              "      <td>Raw Milk</td>\n",
              "      <td>Sieur de Duplessis (Le)</td>\n",
              "      <td>lower fat</td>\n",
              "    </tr>\n",
              "    <tr>\n",
              "      <th>1</th>\n",
              "      <td>NB</td>\n",
              "      <td>Farmstead</td>\n",
              "      <td>47.9</td>\n",
              "      <td>0</td>\n",
              "      <td>Semi-soft Cheese</td>\n",
              "      <td>Cow</td>\n",
              "      <td>Raw Milk</td>\n",
              "      <td>Tomme Le Champ Doré</td>\n",
              "      <td>lower fat</td>\n",
              "    </tr>\n",
              "    <tr>\n",
              "      <th>2</th>\n",
              "      <td>ON</td>\n",
              "      <td>Industrial</td>\n",
              "      <td>54.0</td>\n",
              "      <td>0</td>\n",
              "      <td>Firm Cheese</td>\n",
              "      <td>Cow</td>\n",
              "      <td>Pasteurized</td>\n",
              "      <td>Provolone Sette Fette (Tre-Stelle)</td>\n",
              "      <td>lower fat</td>\n",
              "    </tr>\n",
              "    <tr>\n",
              "      <th>3</th>\n",
              "      <td>NB</td>\n",
              "      <td>Farmstead</td>\n",
              "      <td>47.0</td>\n",
              "      <td>0</td>\n",
              "      <td>Veined Cheeses</td>\n",
              "      <td>Cow</td>\n",
              "      <td>Raw Milk</td>\n",
              "      <td>Geai Bleu (Le)</td>\n",
              "      <td>lower fat</td>\n",
              "    </tr>\n",
              "    <tr>\n",
              "      <th>4</th>\n",
              "      <td>NB</td>\n",
              "      <td>Farmstead</td>\n",
              "      <td>49.4</td>\n",
              "      <td>1</td>\n",
              "      <td>Semi-soft Cheese</td>\n",
              "      <td>Cow</td>\n",
              "      <td>Raw Milk</td>\n",
              "      <td>Gamin (Le)</td>\n",
              "      <td>lower fat</td>\n",
              "    </tr>\n",
              "  </tbody>\n",
              "</table>\n",
              "</div>"
            ],
            "text/plain": [
              "  ManufacturerProvCode ManufacturingTypeEn  MoisturePercent  Organic  \\\n",
              "0                   NB           Farmstead             47.0        0   \n",
              "1                   NB           Farmstead             47.9        0   \n",
              "2                   ON          Industrial             54.0        0   \n",
              "3                   NB           Farmstead             47.0        0   \n",
              "4                   NB           Farmstead             49.4        1   \n",
              "\n",
              "     CategoryTypeEn MilkTypeEn MilkTreatmentTypeEn  \\\n",
              "0       Firm Cheese        Ewe            Raw Milk   \n",
              "1  Semi-soft Cheese        Cow            Raw Milk   \n",
              "2       Firm Cheese        Cow         Pasteurized   \n",
              "3    Veined Cheeses        Cow            Raw Milk   \n",
              "4  Semi-soft Cheese        Cow            Raw Milk   \n",
              "\n",
              "                           CheeseName   FatLevel  \n",
              "0             Sieur de Duplessis (Le)  lower fat  \n",
              "1                 Tomme Le Champ Doré  lower fat  \n",
              "2  Provolone Sette Fette (Tre-Stelle)  lower fat  \n",
              "3                      Geai Bleu (Le)  lower fat  \n",
              "4                          Gamin (Le)  lower fat  "
            ]
          },
          "execution_count": 58,
          "metadata": {},
          "output_type": "execute_result"
        }
      ],
      "source": [
        "cheese_df = pd.read_csv('data/cheese_data.csv',usecols = ['ManufacturerProvCode', 'ManufacturingTypeEn','MoisturePercent', 'Organic',\n",
        "                                                          'CategoryTypeEn','MilkTypeEn','MilkTreatmentTypeEn','CheeseName', 'FatLevel'])\n",
        "cheese_df.head()"
      ]
    },
    {
      "cell_type": "code",
      "execution_count": null,
      "metadata": {
        "id": "PdKmpvzkfO0A",
        "outputId": "ceccdb8f-780e-4674-c2b9-a34656dc0a97"
      },
      "outputs": [
        {
          "data": {
            "text/html": [
              "<div>\n",
              "<style scoped>\n",
              "    .dataframe tbody tr th:only-of-type {\n",
              "        vertical-align: middle;\n",
              "    }\n",
              "\n",
              "    .dataframe tbody tr th {\n",
              "        vertical-align: top;\n",
              "    }\n",
              "\n",
              "    .dataframe thead th {\n",
              "        text-align: right;\n",
              "    }\n",
              "</style>\n",
              "<table border=\"1\" class=\"dataframe\">\n",
              "  <thead>\n",
              "    <tr style=\"text-align: right;\">\n",
              "      <th></th>\n",
              "      <th>ManufacturerProvCode</th>\n",
              "      <th>ManufacturingTypeEn</th>\n",
              "      <th>MoisturePercent</th>\n",
              "      <th>Organic</th>\n",
              "      <th>CategoryTypeEn</th>\n",
              "      <th>MilkTypeEn</th>\n",
              "      <th>MilkTreatmentTypeEn</th>\n",
              "      <th>CheeseName</th>\n",
              "      <th>FatLevel</th>\n",
              "    </tr>\n",
              "  </thead>\n",
              "  <tbody>\n",
              "    <tr>\n",
              "      <th>0</th>\n",
              "      <td>NB</td>\n",
              "      <td>Farmstead</td>\n",
              "      <td>47.0</td>\n",
              "      <td>0</td>\n",
              "      <td>Firm Cheese</td>\n",
              "      <td>Ewe</td>\n",
              "      <td>Raw Milk</td>\n",
              "      <td>Sieur de Duplessis (Le)</td>\n",
              "      <td>1</td>\n",
              "    </tr>\n",
              "    <tr>\n",
              "      <th>1</th>\n",
              "      <td>NB</td>\n",
              "      <td>Farmstead</td>\n",
              "      <td>47.9</td>\n",
              "      <td>0</td>\n",
              "      <td>Semi-soft Cheese</td>\n",
              "      <td>Cow</td>\n",
              "      <td>Raw Milk</td>\n",
              "      <td>Tomme Le Champ Doré</td>\n",
              "      <td>1</td>\n",
              "    </tr>\n",
              "    <tr>\n",
              "      <th>2</th>\n",
              "      <td>ON</td>\n",
              "      <td>Industrial</td>\n",
              "      <td>54.0</td>\n",
              "      <td>0</td>\n",
              "      <td>Firm Cheese</td>\n",
              "      <td>Cow</td>\n",
              "      <td>Pasteurized</td>\n",
              "      <td>Provolone Sette Fette (Tre-Stelle)</td>\n",
              "      <td>1</td>\n",
              "    </tr>\n",
              "    <tr>\n",
              "      <th>3</th>\n",
              "      <td>NB</td>\n",
              "      <td>Farmstead</td>\n",
              "      <td>47.0</td>\n",
              "      <td>0</td>\n",
              "      <td>Veined Cheeses</td>\n",
              "      <td>Cow</td>\n",
              "      <td>Raw Milk</td>\n",
              "      <td>Geai Bleu (Le)</td>\n",
              "      <td>1</td>\n",
              "    </tr>\n",
              "    <tr>\n",
              "      <th>4</th>\n",
              "      <td>NB</td>\n",
              "      <td>Farmstead</td>\n",
              "      <td>49.4</td>\n",
              "      <td>1</td>\n",
              "      <td>Semi-soft Cheese</td>\n",
              "      <td>Cow</td>\n",
              "      <td>Raw Milk</td>\n",
              "      <td>Gamin (Le)</td>\n",
              "      <td>1</td>\n",
              "    </tr>\n",
              "  </tbody>\n",
              "</table>\n",
              "</div>"
            ],
            "text/plain": [
              "  ManufacturerProvCode ManufacturingTypeEn  MoisturePercent  Organic  \\\n",
              "0                   NB           Farmstead             47.0        0   \n",
              "1                   NB           Farmstead             47.9        0   \n",
              "2                   ON          Industrial             54.0        0   \n",
              "3                   NB           Farmstead             47.0        0   \n",
              "4                   NB           Farmstead             49.4        1   \n",
              "\n",
              "     CategoryTypeEn MilkTypeEn MilkTreatmentTypeEn  \\\n",
              "0       Firm Cheese        Ewe            Raw Milk   \n",
              "1  Semi-soft Cheese        Cow            Raw Milk   \n",
              "2       Firm Cheese        Cow         Pasteurized   \n",
              "3    Veined Cheeses        Cow            Raw Milk   \n",
              "4  Semi-soft Cheese        Cow            Raw Milk   \n",
              "\n",
              "                           CheeseName  FatLevel  \n",
              "0             Sieur de Duplessis (Le)         1  \n",
              "1                 Tomme Le Champ Doré         1  \n",
              "2  Provolone Sette Fette (Tre-Stelle)         1  \n",
              "3                      Geai Bleu (Le)         1  \n",
              "4                          Gamin (Le)         1  "
            ]
          },
          "execution_count": 59,
          "metadata": {},
          "output_type": "execute_result"
        }
      ],
      "source": [
        "cheese_df.replace(['lower fat', 'higher fat'], [1, 2], inplace = True)\n",
        "cheese_df.head()"
      ]
    },
    {
      "cell_type": "markdown",
      "metadata": {
        "id": "Ze750NF2fO0A"
      },
      "source": [
        "In order to avoid violation of the golden rule, the first step before I do anything is splitting the data.\n",
        "I split the data into `train_df` (80%), `test_df` (20%), and  `random_state=123` .Also, the target column (`FatLevel`) in the splits so that I can use it in EDA."
      ]
    },
    {
      "cell_type": "code",
      "execution_count": null,
      "metadata": {
        "id": "vB4huBoefO0B"
      },
      "outputs": [],
      "source": [
        "train_df, test_df = train_test_split(cheese_df,test_size = 0.2,random_state = 123)"
      ]
    },
    {
      "cell_type": "code",
      "execution_count": null,
      "metadata": {
        "id": "mKg3f1d2fO0B",
        "outputId": "d7dac976-e8f7-43ba-baad-ac12ce4802d6"
      },
      "outputs": [
        {
          "name": "stdout",
          "output_type": "stream",
          "text": [
            "<class 'pandas.core.frame.DataFrame'>\n",
            "Int64Index: 833 entries, 482 to 1041\n",
            "Data columns (total 9 columns):\n",
            " #   Column                Non-Null Count  Dtype  \n",
            "---  ------                --------------  -----  \n",
            " 0   ManufacturerProvCode  833 non-null    object \n",
            " 1   ManufacturingTypeEn   833 non-null    object \n",
            " 2   MoisturePercent       821 non-null    float64\n",
            " 3   Organic               833 non-null    int64  \n",
            " 4   CategoryTypeEn        813 non-null    object \n",
            " 5   MilkTypeEn            832 non-null    object \n",
            " 6   MilkTreatmentTypeEn   781 non-null    object \n",
            " 7   CheeseName            833 non-null    object \n",
            " 8   FatLevel              833 non-null    int64  \n",
            "dtypes: float64(1), int64(2), object(6)\n",
            "memory usage: 65.1+ KB\n"
          ]
        }
      ],
      "source": [
        "train_df.info()"
      ]
    },
    {
      "cell_type": "markdown",
      "metadata": {
        "id": "tGjFf9N3fO0B"
      },
      "source": [
        "After using .info() we can see all the different column dtypes and also all the number of null values.\n",
        "We have NAN values in MoisturePercent,CategoryTypeEn,MilkTypeEn, and MilkTreatmentTypeEn. So for buliding a model Imputing will be neccessary."
      ]
    },
    {
      "cell_type": "code",
      "execution_count": null,
      "metadata": {
        "id": "Yq1_Df_vfO0B",
        "outputId": "ce745dc1-033c-46cc-8b01-45baa9ec0923"
      },
      "outputs": [
        {
          "data": {
            "text/html": [
              "<div>\n",
              "<style scoped>\n",
              "    .dataframe tbody tr th:only-of-type {\n",
              "        vertical-align: middle;\n",
              "    }\n",
              "\n",
              "    .dataframe tbody tr th {\n",
              "        vertical-align: top;\n",
              "    }\n",
              "\n",
              "    .dataframe thead th {\n",
              "        text-align: right;\n",
              "    }\n",
              "</style>\n",
              "<table border=\"1\" class=\"dataframe\">\n",
              "  <thead>\n",
              "    <tr style=\"text-align: right;\">\n",
              "      <th></th>\n",
              "      <th>ManufacturerProvCode</th>\n",
              "      <th>ManufacturingTypeEn</th>\n",
              "      <th>MoisturePercent</th>\n",
              "      <th>Organic</th>\n",
              "      <th>CategoryTypeEn</th>\n",
              "      <th>MilkTypeEn</th>\n",
              "      <th>MilkTreatmentTypeEn</th>\n",
              "      <th>CheeseName</th>\n",
              "      <th>FatLevel</th>\n",
              "    </tr>\n",
              "  </thead>\n",
              "  <tbody>\n",
              "    <tr>\n",
              "      <th>count</th>\n",
              "      <td>833</td>\n",
              "      <td>833</td>\n",
              "      <td>821.000000</td>\n",
              "      <td>833.000000</td>\n",
              "      <td>813</td>\n",
              "      <td>832</td>\n",
              "      <td>781</td>\n",
              "      <td>833</td>\n",
              "      <td>833.000000</td>\n",
              "    </tr>\n",
              "    <tr>\n",
              "      <th>unique</th>\n",
              "      <td>10</td>\n",
              "      <td>3</td>\n",
              "      <td>NaN</td>\n",
              "      <td>NaN</td>\n",
              "      <td>6</td>\n",
              "      <td>8</td>\n",
              "      <td>3</td>\n",
              "      <td>830</td>\n",
              "      <td>NaN</td>\n",
              "    </tr>\n",
              "    <tr>\n",
              "      <th>top</th>\n",
              "      <td>QC</td>\n",
              "      <td>Industrial</td>\n",
              "      <td>NaN</td>\n",
              "      <td>NaN</td>\n",
              "      <td>Firm Cheese</td>\n",
              "      <td>Cow</td>\n",
              "      <td>Pasteurized</td>\n",
              "      <td>Boerenkaas</td>\n",
              "      <td>NaN</td>\n",
              "    </tr>\n",
              "    <tr>\n",
              "      <th>freq</th>\n",
              "      <td>635</td>\n",
              "      <td>370</td>\n",
              "      <td>NaN</td>\n",
              "      <td>NaN</td>\n",
              "      <td>271</td>\n",
              "      <td>596</td>\n",
              "      <td>648</td>\n",
              "      <td>2</td>\n",
              "      <td>NaN</td>\n",
              "    </tr>\n",
              "    <tr>\n",
              "      <th>mean</th>\n",
              "      <td>NaN</td>\n",
              "      <td>NaN</td>\n",
              "      <td>47.052741</td>\n",
              "      <td>0.091236</td>\n",
              "      <td>NaN</td>\n",
              "      <td>NaN</td>\n",
              "      <td>NaN</td>\n",
              "      <td>NaN</td>\n",
              "      <td>1.342137</td>\n",
              "    </tr>\n",
              "    <tr>\n",
              "      <th>std</th>\n",
              "      <td>NaN</td>\n",
              "      <td>NaN</td>\n",
              "      <td>9.660351</td>\n",
              "      <td>0.288118</td>\n",
              "      <td>NaN</td>\n",
              "      <td>NaN</td>\n",
              "      <td>NaN</td>\n",
              "      <td>NaN</td>\n",
              "      <td>0.474710</td>\n",
              "    </tr>\n",
              "    <tr>\n",
              "      <th>min</th>\n",
              "      <td>NaN</td>\n",
              "      <td>NaN</td>\n",
              "      <td>12.000000</td>\n",
              "      <td>0.000000</td>\n",
              "      <td>NaN</td>\n",
              "      <td>NaN</td>\n",
              "      <td>NaN</td>\n",
              "      <td>NaN</td>\n",
              "      <td>1.000000</td>\n",
              "    </tr>\n",
              "    <tr>\n",
              "      <th>25%</th>\n",
              "      <td>NaN</td>\n",
              "      <td>NaN</td>\n",
              "      <td>40.000000</td>\n",
              "      <td>0.000000</td>\n",
              "      <td>NaN</td>\n",
              "      <td>NaN</td>\n",
              "      <td>NaN</td>\n",
              "      <td>NaN</td>\n",
              "      <td>1.000000</td>\n",
              "    </tr>\n",
              "    <tr>\n",
              "      <th>50%</th>\n",
              "      <td>NaN</td>\n",
              "      <td>NaN</td>\n",
              "      <td>46.000000</td>\n",
              "      <td>0.000000</td>\n",
              "      <td>NaN</td>\n",
              "      <td>NaN</td>\n",
              "      <td>NaN</td>\n",
              "      <td>NaN</td>\n",
              "      <td>1.000000</td>\n",
              "    </tr>\n",
              "    <tr>\n",
              "      <th>75%</th>\n",
              "      <td>NaN</td>\n",
              "      <td>NaN</td>\n",
              "      <td>52.000000</td>\n",
              "      <td>0.000000</td>\n",
              "      <td>NaN</td>\n",
              "      <td>NaN</td>\n",
              "      <td>NaN</td>\n",
              "      <td>NaN</td>\n",
              "      <td>2.000000</td>\n",
              "    </tr>\n",
              "    <tr>\n",
              "      <th>max</th>\n",
              "      <td>NaN</td>\n",
              "      <td>NaN</td>\n",
              "      <td>92.000000</td>\n",
              "      <td>1.000000</td>\n",
              "      <td>NaN</td>\n",
              "      <td>NaN</td>\n",
              "      <td>NaN</td>\n",
              "      <td>NaN</td>\n",
              "      <td>2.000000</td>\n",
              "    </tr>\n",
              "  </tbody>\n",
              "</table>\n",
              "</div>"
            ],
            "text/plain": [
              "       ManufacturerProvCode ManufacturingTypeEn  MoisturePercent     Organic  \\\n",
              "count                   833                 833       821.000000  833.000000   \n",
              "unique                   10                   3              NaN         NaN   \n",
              "top                      QC          Industrial              NaN         NaN   \n",
              "freq                    635                 370              NaN         NaN   \n",
              "mean                    NaN                 NaN        47.052741    0.091236   \n",
              "std                     NaN                 NaN         9.660351    0.288118   \n",
              "min                     NaN                 NaN        12.000000    0.000000   \n",
              "25%                     NaN                 NaN        40.000000    0.000000   \n",
              "50%                     NaN                 NaN        46.000000    0.000000   \n",
              "75%                     NaN                 NaN        52.000000    0.000000   \n",
              "max                     NaN                 NaN        92.000000    1.000000   \n",
              "\n",
              "       CategoryTypeEn MilkTypeEn MilkTreatmentTypeEn  CheeseName    FatLevel  \n",
              "count             813        832                 781         833  833.000000  \n",
              "unique              6          8                   3         830         NaN  \n",
              "top       Firm Cheese        Cow         Pasteurized  Boerenkaas         NaN  \n",
              "freq              271        596                 648           2         NaN  \n",
              "mean              NaN        NaN                 NaN         NaN    1.342137  \n",
              "std               NaN        NaN                 NaN         NaN    0.474710  \n",
              "min               NaN        NaN                 NaN         NaN    1.000000  \n",
              "25%               NaN        NaN                 NaN         NaN    1.000000  \n",
              "50%               NaN        NaN                 NaN         NaN    1.000000  \n",
              "75%               NaN        NaN                 NaN         NaN    2.000000  \n",
              "max               NaN        NaN                 NaN         NaN    2.000000  "
            ]
          },
          "execution_count": 62,
          "metadata": {},
          "output_type": "execute_result"
        }
      ],
      "source": [
        "train_df.describe(include = 'all')"
      ]
    },
    {
      "cell_type": "markdown",
      "metadata": {
        "id": "VpJO5mglfO0C"
      },
      "source": [
        "In out data set: most_unique = CheeseName, missing_cat = CategoryTypeEn, MilkTreatmentTypeEn, and missing_num = MoisturePercent"
      ]
    },
    {
      "cell_type": "code",
      "execution_count": null,
      "metadata": {
        "id": "1wtwMl7NfO0C",
        "outputId": "39bb56d9-f7c0-4f08-8e00-2b9bb7c1b6e3"
      },
      "outputs": [
        {
          "data": {
            "text/html": [
              "\n",
              "<div id=\"altair-viz-526760b2bbba440aa806034205a36977\"></div>\n",
              "<script type=\"text/javascript\">\n",
              "  (function(spec, embedOpt){\n",
              "    let outputDiv = document.currentScript.previousElementSibling;\n",
              "    if (outputDiv.id !== \"altair-viz-526760b2bbba440aa806034205a36977\") {\n",
              "      outputDiv = document.getElementById(\"altair-viz-526760b2bbba440aa806034205a36977\");\n",
              "    }\n",
              "    const paths = {\n",
              "      \"vega\": \"https://cdn.jsdelivr.net/npm//vega@5?noext\",\n",
              "      \"vega-lib\": \"https://cdn.jsdelivr.net/npm//vega-lib?noext\",\n",
              "      \"vega-lite\": \"https://cdn.jsdelivr.net/npm//vega-lite@4.8.1?noext\",\n",
              "      \"vega-embed\": \"https://cdn.jsdelivr.net/npm//vega-embed@6?noext\",\n",
              "    };\n",
              "\n",
              "    function loadScript(lib) {\n",
              "      return new Promise(function(resolve, reject) {\n",
              "        var s = document.createElement('script');\n",
              "        s.src = paths[lib];\n",
              "        s.async = true;\n",
              "        s.onload = () => resolve(paths[lib]);\n",
              "        s.onerror = () => reject(`Error loading script: ${paths[lib]}`);\n",
              "        document.getElementsByTagName(\"head\")[0].appendChild(s);\n",
              "      });\n",
              "    }\n",
              "\n",
              "    function showError(err) {\n",
              "      outputDiv.innerHTML = `<div class=\"error\" style=\"color:red;\">${err}</div>`;\n",
              "      throw err;\n",
              "    }\n",
              "\n",
              "    function displayChart(vegaEmbed) {\n",
              "      vegaEmbed(outputDiv, spec, embedOpt)\n",
              "        .catch(err => showError(`Javascript Error: ${err.message}<br>This usually means there's a typo in your chart specification. See the javascript console for the full traceback.`));\n",
              "    }\n",
              "\n",
              "    if(typeof define === \"function\" && define.amd) {\n",
              "      requirejs.config({paths});\n",
              "      require([\"vega-embed\"], displayChart, err => showError(`Error loading script: ${err.message}`));\n",
              "    } else if (typeof vegaEmbed === \"function\") {\n",
              "      displayChart(vegaEmbed);\n",
              "    } else {\n",
              "      loadScript(\"vega\")\n",
              "        .then(() => loadScript(\"vega-lite\"))\n",
              "        .then(() => loadScript(\"vega-embed\"))\n",
              "        .catch(showError)\n",
              "        .then(() => displayChart(vegaEmbed));\n",
              "    }\n",
              "  })({\"config\": {\"view\": {\"continuousWidth\": 400, \"continuousHeight\": 300}}, \"repeat\": [\"ManufacturerProvCode\", \"ManufacturingTypeEn\", \"CategoryTypeEn\", \"MilkTypeEn\", \"MilkTreatmentTypeEn\", \"FatLevel\"], \"spec\": {\"data\": {\"url\": \"/jupyter/user/906937/proxy/24798/dc40e5c4fe37926010738383a217ffa8.json\"}, \"mark\": {\"type\": \"bar\", \"opacity\": 0.7}, \"encoding\": {\"color\": {\"type\": \"quantitative\", \"field\": \"FatLevel\"}, \"x\": {\"type\": \"nominal\", \"field\": {\"repeat\": \"repeat\"}}, \"y\": {\"type\": \"quantitative\", \"aggregate\": \"count\", \"stack\": null}}, \"height\": 400, \"width\": 200}, \"columns\": 3, \"$schema\": \"https://vega.github.io/schema/vega-lite/v4.8.1.json\"}, {\"mode\": \"vega-lite\"});\n",
              "</script>"
            ],
            "text/plain": [
              "alt.RepeatChart(...)"
            ]
          },
          "execution_count": 63,
          "metadata": {},
          "output_type": "execute_result"
        }
      ],
      "source": [
        "#cat_feature_list = train_df.select_dtypes('object').columns.tolist()\n",
        "cat_feature_list = ['ManufacturerProvCode','ManufacturingTypeEn','CategoryTypeEn','MilkTypeEn','MilkTreatmentTypeEn','FatLevel']\n",
        "alt.Chart(train_df).mark_bar(opacity = 0.7).encode(\n",
        "     alt.X(alt.repeat(), type = 'nominal'),\n",
        "     alt.Y('count():Q', stack=None ),\n",
        "     alt.Color('FatLevel')\n",
        ").properties(width = 200, height = 400).repeat(cat_feature_list, columns = 3)"
      ]
    },
    {
      "cell_type": "code",
      "execution_count": null,
      "metadata": {
        "id": "4qZNw-x8fO0C",
        "outputId": "8c048c74-b60d-48a9-bd0a-8682ddc429c6"
      },
      "outputs": [
        {
          "data": {
            "text/html": [
              "\n",
              "<div id=\"altair-viz-8169e53e91ab4b4b8063999243780284\"></div>\n",
              "<script type=\"text/javascript\">\n",
              "  (function(spec, embedOpt){\n",
              "    let outputDiv = document.currentScript.previousElementSibling;\n",
              "    if (outputDiv.id !== \"altair-viz-8169e53e91ab4b4b8063999243780284\") {\n",
              "      outputDiv = document.getElementById(\"altair-viz-8169e53e91ab4b4b8063999243780284\");\n",
              "    }\n",
              "    const paths = {\n",
              "      \"vega\": \"https://cdn.jsdelivr.net/npm//vega@5?noext\",\n",
              "      \"vega-lib\": \"https://cdn.jsdelivr.net/npm//vega-lib?noext\",\n",
              "      \"vega-lite\": \"https://cdn.jsdelivr.net/npm//vega-lite@4.8.1?noext\",\n",
              "      \"vega-embed\": \"https://cdn.jsdelivr.net/npm//vega-embed@6?noext\",\n",
              "    };\n",
              "\n",
              "    function loadScript(lib) {\n",
              "      return new Promise(function(resolve, reject) {\n",
              "        var s = document.createElement('script');\n",
              "        s.src = paths[lib];\n",
              "        s.async = true;\n",
              "        s.onload = () => resolve(paths[lib]);\n",
              "        s.onerror = () => reject(`Error loading script: ${paths[lib]}`);\n",
              "        document.getElementsByTagName(\"head\")[0].appendChild(s);\n",
              "      });\n",
              "    }\n",
              "\n",
              "    function showError(err) {\n",
              "      outputDiv.innerHTML = `<div class=\"error\" style=\"color:red;\">${err}</div>`;\n",
              "      throw err;\n",
              "    }\n",
              "\n",
              "    function displayChart(vegaEmbed) {\n",
              "      vegaEmbed(outputDiv, spec, embedOpt)\n",
              "        .catch(err => showError(`Javascript Error: ${err.message}<br>This usually means there's a typo in your chart specification. See the javascript console for the full traceback.`));\n",
              "    }\n",
              "\n",
              "    if(typeof define === \"function\" && define.amd) {\n",
              "      requirejs.config({paths});\n",
              "      require([\"vega-embed\"], displayChart, err => showError(`Error loading script: ${err.message}`));\n",
              "    } else if (typeof vegaEmbed === \"function\") {\n",
              "      displayChart(vegaEmbed);\n",
              "    } else {\n",
              "      loadScript(\"vega\")\n",
              "        .then(() => loadScript(\"vega-lite\"))\n",
              "        .then(() => loadScript(\"vega-embed\"))\n",
              "        .catch(showError)\n",
              "        .then(() => displayChart(vegaEmbed));\n",
              "    }\n",
              "  })({\"config\": {\"view\": {\"continuousWidth\": 400, \"continuousHeight\": 300}}, \"repeat\": [\"MoisturePercent\", \"Organic\"], \"spec\": {\"data\": {\"url\": \"/jupyter/user/906937/proxy/24798/dc40e5c4fe37926010738383a217ffa8.json\"}, \"mark\": {\"type\": \"bar\", \"opacity\": 0.7}, \"encoding\": {\"color\": {\"type\": \"quantitative\", \"field\": \"FatLevel\"}, \"x\": {\"type\": \"quantitative\", \"field\": {\"repeat\": \"repeat\"}}, \"y\": {\"type\": \"quantitative\", \"aggregate\": \"count\"}}, \"height\": 400, \"width\": 300}, \"columns\": 3, \"$schema\": \"https://vega.github.io/schema/vega-lite/v4.8.1.json\"}, {\"mode\": \"vega-lite\"});\n",
              "</script>"
            ],
            "text/plain": [
              "alt.RepeatChart(...)"
            ]
          },
          "execution_count": 64,
          "metadata": {},
          "output_type": "execute_result"
        }
      ],
      "source": [
        "num_feature_list = ['MoisturePercent','Organic']\n",
        "alt.Chart(train_df).mark_bar(opacity = 0.7).encode(\n",
        "     alt.X(alt.repeat(),type = 'quantitative'),\n",
        "     alt.Y('count():Q'),\n",
        "     alt.Color('FatLevel')\n",
        ").properties(width = 300, height = 400).repeat(num_feature_list, columns = 3)"
      ]
    },
    {
      "cell_type": "markdown",
      "metadata": {
        "id": "8ZX3pLDCfO0C"
      },
      "source": [
        "Let's have EDA for the data set. From the visualization below we can see Cheese in QC is significantly more than other province in Canada. Industrial soft cheese are pupular product. It seems milk is pastorized cow milk and lower fat is the popular chees however they are not organic."
      ]
    },
    {
      "cell_type": "markdown",
      "metadata": {
        "id": "iQlPqEqSfO0C"
      },
      "source": [
        "Since my model will predict the probability of a binary (lower fat/higher fat) event occurring, logistic regression will be my first choice. let see how the model performs. If it fails, then I will try using SVM with RBF kernel or KNN."
      ]
    },
    {
      "cell_type": "code",
      "execution_count": null,
      "metadata": {
        "id": "lxj5S49xfO0D",
        "outputId": "a08160ed-ec85-4949-f06c-ea21e6cd2637"
      },
      "outputs": [
        {
          "data": {
            "text/html": [
              "<div>\n",
              "<style scoped>\n",
              "    .dataframe tbody tr th:only-of-type {\n",
              "        vertical-align: middle;\n",
              "    }\n",
              "\n",
              "    .dataframe tbody tr th {\n",
              "        vertical-align: top;\n",
              "    }\n",
              "\n",
              "    .dataframe thead th {\n",
              "        text-align: right;\n",
              "    }\n",
              "</style>\n",
              "<table border=\"1\" class=\"dataframe\">\n",
              "  <thead>\n",
              "    <tr style=\"text-align: right;\">\n",
              "      <th></th>\n",
              "      <th>ManufacturerProvCode</th>\n",
              "      <th>ManufacturingTypeEn</th>\n",
              "      <th>MoisturePercent</th>\n",
              "      <th>Organic</th>\n",
              "      <th>CategoryTypeEn</th>\n",
              "      <th>MilkTypeEn</th>\n",
              "      <th>MilkTreatmentTypeEn</th>\n",
              "      <th>CheeseName</th>\n",
              "    </tr>\n",
              "  </thead>\n",
              "  <tbody>\n",
              "    <tr>\n",
              "      <th>482</th>\n",
              "      <td>QC</td>\n",
              "      <td>Artisan</td>\n",
              "      <td>48.0</td>\n",
              "      <td>0</td>\n",
              "      <td>Semi-soft Cheese</td>\n",
              "      <td>Cow</td>\n",
              "      <td>Pasteurized</td>\n",
              "      <td>Raclette Griffon</td>\n",
              "    </tr>\n",
              "    <tr>\n",
              "      <th>896</th>\n",
              "      <td>QC</td>\n",
              "      <td>Artisan</td>\n",
              "      <td>45.0</td>\n",
              "      <td>0</td>\n",
              "      <td>Veined Cheeses</td>\n",
              "      <td>Cow</td>\n",
              "      <td>Pasteurized</td>\n",
              "      <td>Rébellion 1837</td>\n",
              "    </tr>\n",
              "    <tr>\n",
              "      <th>421</th>\n",
              "      <td>QC</td>\n",
              "      <td>Industrial</td>\n",
              "      <td>50.0</td>\n",
              "      <td>0</td>\n",
              "      <td>Soft Cheese</td>\n",
              "      <td>Cow</td>\n",
              "      <td>Pasteurized</td>\n",
              "      <td>Mini-Brie</td>\n",
              "    </tr>\n",
              "    <tr>\n",
              "      <th>929</th>\n",
              "      <td>BC</td>\n",
              "      <td>Artisan</td>\n",
              "      <td>40.0</td>\n",
              "      <td>0</td>\n",
              "      <td>Semi-soft Cheese</td>\n",
              "      <td>Cow</td>\n",
              "      <td>Pasteurized</td>\n",
              "      <td>Aged Farmhouse</td>\n",
              "    </tr>\n",
              "    <tr>\n",
              "      <th>737</th>\n",
              "      <td>QC</td>\n",
              "      <td>Artisan</td>\n",
              "      <td>65.0</td>\n",
              "      <td>0</td>\n",
              "      <td>Fresh Cheese</td>\n",
              "      <td>Cow</td>\n",
              "      <td>Pasteurized</td>\n",
              "      <td>Ricotta (l'Ancêtre)</td>\n",
              "    </tr>\n",
              "  </tbody>\n",
              "</table>\n",
              "</div>"
            ],
            "text/plain": [
              "    ManufacturerProvCode ManufacturingTypeEn  MoisturePercent  Organic  \\\n",
              "482                   QC             Artisan             48.0        0   \n",
              "896                   QC             Artisan             45.0        0   \n",
              "421                   QC          Industrial             50.0        0   \n",
              "929                   BC             Artisan             40.0        0   \n",
              "737                   QC             Artisan             65.0        0   \n",
              "\n",
              "       CategoryTypeEn MilkTypeEn MilkTreatmentTypeEn           CheeseName  \n",
              "482  Semi-soft Cheese        Cow         Pasteurized     Raclette Griffon  \n",
              "896    Veined Cheeses        Cow         Pasteurized       Rébellion 1837  \n",
              "421       Soft Cheese        Cow         Pasteurized            Mini-Brie  \n",
              "929  Semi-soft Cheese        Cow         Pasteurized       Aged Farmhouse  \n",
              "737      Fresh Cheese        Cow         Pasteurized  Ricotta (l'Ancêtre)  "
            ]
          },
          "execution_count": 65,
          "metadata": {},
          "output_type": "execute_result"
        }
      ],
      "source": [
        "X_train = train_df.drop(columns = 'FatLevel')\n",
        "X_test = test_df.drop(columns = 'FatLevel')\n",
        "y_train = train_df['FatLevel']\n",
        "y_test = test_df['FatLevel']\n",
        "\n",
        "X_train.head()"
      ]
    },
    {
      "cell_type": "markdown",
      "metadata": {
        "id": "ONNkJ8hyfO0D"
      },
      "source": [
        "## 2. Preprocessing and building pipelines"
      ]
    },
    {
      "cell_type": "markdown",
      "metadata": {
        "id": "PzAvCZe4fO0D"
      },
      "source": [
        "Now it is time to categorize X-train columns to lists named of `categorical_feats`, `numeric_feats`, `ordinal_feat` and `binary_feats`."
      ]
    },
    {
      "cell_type": "code",
      "execution_count": null,
      "metadata": {
        "id": "zRHtRCm2fO0D"
      },
      "outputs": [],
      "source": [
        "categorical_feats = ['ManufacturerProvCode','CategoryTypeEn','MilkTypeEn', 'CheeseName']\n",
        "numeric_feats = ['MoisturePercent','Organic']\n",
        "ordinal_feat = ['ManufacturingTypeEn','MilkTreatmentTypeEn']\n",
        "binary_feats = []\n",
        "drop_features = ['CheeseName']"
      ]
    },
    {
      "cell_type": "code",
      "execution_count": null,
      "metadata": {
        "id": "17sacRUKfO0D"
      },
      "outputs": [],
      "source": [
        "# Ordering the values in 'ManufacturingTypeEn' and naming the list ManufacturingType_order\n",
        "#print (X_train['ManufacturingTypeEn'].unique())\n",
        "ManufacturingType_order = ['Farmstead', 'Industrial', 'Artisan']"
      ]
    },
    {
      "cell_type": "code",
      "execution_count": null,
      "metadata": {
        "id": "3fcYfljpfO0E"
      },
      "outputs": [],
      "source": [
        "#Ordering the values in 'MilkTreatmentTypeEn' and naming the list MilkTreatment_order\n",
        "#print (X_train['MilkTreatmentTypeEn'].unique())\n",
        "MilkTreatment_order = ['Raw Milk', 'Pasteurized', 'Thermised']"
      ]
    },
    {
      "cell_type": "code",
      "execution_count": null,
      "metadata": {
        "id": "T2ZjPa7mfO0E"
      },
      "outputs": [],
      "source": [
        "# Pipelines\n",
        "categorical_transformer = make_pipeline(SimpleImputer(strategy=\"most_frequent\"),OneHotEncoder(handle_unknown=\"ignore\"))\n",
        "numeric_transformer = make_pipeline(SimpleImputer(strategy=\"mean\"),StandardScaler())\n",
        "ordinal_transformer1 = make_pipeline(SimpleImputer(strategy=\"most_frequent\"),OrdinalEncoder(categories=[ManufacturingType_order], dtype=int))\n",
        "ordinal_transformer2 = make_pipeline(SimpleImputer(strategy=\"most_frequent\"),OrdinalEncoder(categories=[MilkTreatment_order], dtype=int))"
      ]
    },
    {
      "cell_type": "code",
      "execution_count": null,
      "metadata": {
        "id": "4D050vFffO0E"
      },
      "outputs": [],
      "source": [
        "# Column transformer\n",
        "preprocessor = make_column_transformer((categorical_transformer, categorical_feats),(numeric_transformer, numeric_feats),(\"drop\", drop_features),\n",
        "                                       (ordinal_transformer1, ['ManufacturingTypeEn']),(ordinal_transformer2, ['MilkTreatmentTypeEn']))\n",
        "\n"
      ]
    },
    {
      "cell_type": "markdown",
      "metadata": {
        "id": "dGbu8vCTfO0E"
      },
      "source": [
        "# 3. Model Building"
      ]
    },
    {
      "cell_type": "markdown",
      "metadata": {
        "id": "uaw4I12MfO0E"
      },
      "source": [
        "For calculating `accuracy`,`f1`,`recall`,`precision`, I need to replace Lower fat and higher fat with 1 and 2. I consider Lower fat as positive class."
      ]
    },
    {
      "cell_type": "code",
      "execution_count": null,
      "metadata": {
        "id": "iZPx5dZEfO0E"
      },
      "outputs": [],
      "source": [
        "#train_df.replace(['lower fat', 'higher fat'], [1, 2])"
      ]
    },
    {
      "cell_type": "markdown",
      "metadata": {
        "id": "ZOr37k6mfO0E"
      },
      "source": [
        "Since it's important to build a dummy classifier to compare my model to.\n",
        "I make a DummyClassifier using `strategy=\"most_frequent\"`.Also,I will carry out 5-fold cross validation on X_train and y_train using  cross_validate()."
      ]
    },
    {
      "cell_type": "code",
      "execution_count": null,
      "metadata": {
        "id": "Cg84Qh4LfO0F"
      },
      "outputs": [],
      "source": [
        "dummy_model = DummyClassifier(strategy=\"prior\")\n",
        "dummy_scores = pd.DataFrame(cross_validate(dummy_model, X_train, y_train, cv =5, return_train_score=True,\n",
        "                                           scoring = ['accuracy','f1','recall','precision']))"
      ]
    },
    {
      "cell_type": "code",
      "execution_count": null,
      "metadata": {
        "id": "-DSyR4zmfO0F",
        "outputId": "f6366506-77ec-4da0-b47f-669135b0e0c8"
      },
      "outputs": [
        {
          "name": "stdout",
          "output_type": "stream",
          "text": [
            "Logistic Regression :\n",
            "RBF SVM :\n",
            "Random Forest Classifier :\n",
            "KNN :\n",
            "Decision Tree :\n"
          ]
        },
        {
          "data": {
            "text/html": [
              "<div>\n",
              "<style scoped>\n",
              "    .dataframe tbody tr th:only-of-type {\n",
              "        vertical-align: middle;\n",
              "    }\n",
              "\n",
              "    .dataframe tbody tr th {\n",
              "        vertical-align: top;\n",
              "    }\n",
              "\n",
              "    .dataframe thead th {\n",
              "        text-align: right;\n",
              "    }\n",
              "</style>\n",
              "<table border=\"1\" class=\"dataframe\">\n",
              "  <thead>\n",
              "    <tr style=\"text-align: right;\">\n",
              "      <th></th>\n",
              "      <th>mean_train_accuracy</th>\n",
              "      <th>mean_test_accuracy</th>\n",
              "      <th>mean_train_f1</th>\n",
              "      <th>mean_test_f1</th>\n",
              "      <th>mean_train_recall</th>\n",
              "      <th>mean_test_recall</th>\n",
              "      <th>mean_train_precision</th>\n",
              "      <th>mean_test_precision</th>\n",
              "      <th>mean_fit_time (s)</th>\n",
              "      <th>mean_score_time (s)</th>\n",
              "    </tr>\n",
              "  </thead>\n",
              "  <tbody>\n",
              "    <tr>\n",
              "      <th>Dummy</th>\n",
              "      <td>0.6579</td>\n",
              "      <td>0.6579</td>\n",
              "      <td>0.7936</td>\n",
              "      <td>0.7936</td>\n",
              "      <td>1.0000</td>\n",
              "      <td>1.0000</td>\n",
              "      <td>0.6579</td>\n",
              "      <td>0.6579</td>\n",
              "      <td>0.0012</td>\n",
              "      <td>0.0039</td>\n",
              "    </tr>\n",
              "    <tr>\n",
              "      <th>Logistic Regression</th>\n",
              "      <td>0.8793</td>\n",
              "      <td>0.7647</td>\n",
              "      <td>0.9023</td>\n",
              "      <td>0.8146</td>\n",
              "      <td>0.8472</td>\n",
              "      <td>0.7865</td>\n",
              "      <td>0.9652</td>\n",
              "      <td>0.8450</td>\n",
              "      <td>0.0601</td>\n",
              "      <td>0.0203</td>\n",
              "    </tr>\n",
              "    <tr>\n",
              "      <th>RBF SVM</th>\n",
              "      <td>0.8622</td>\n",
              "      <td>0.7803</td>\n",
              "      <td>0.8882</td>\n",
              "      <td>0.8241</td>\n",
              "      <td>0.8317</td>\n",
              "      <td>0.7829</td>\n",
              "      <td>0.9529</td>\n",
              "      <td>0.8704</td>\n",
              "      <td>0.0479</td>\n",
              "      <td>0.0213</td>\n",
              "    </tr>\n",
              "    <tr>\n",
              "      <th>Random Forest Classifier</th>\n",
              "      <td>1.0000</td>\n",
              "      <td>0.8211</td>\n",
              "      <td>1.0000</td>\n",
              "      <td>0.8713</td>\n",
              "      <td>1.0000</td>\n",
              "      <td>0.9216</td>\n",
              "      <td>1.0000</td>\n",
              "      <td>0.8267</td>\n",
              "      <td>0.2906</td>\n",
              "      <td>0.0335</td>\n",
              "    </tr>\n",
              "    <tr>\n",
              "      <th>KNN</th>\n",
              "      <td>0.8733</td>\n",
              "      <td>0.8247</td>\n",
              "      <td>0.9053</td>\n",
              "      <td>0.8682</td>\n",
              "      <td>0.9202</td>\n",
              "      <td>0.8778</td>\n",
              "      <td>0.8913</td>\n",
              "      <td>0.8592</td>\n",
              "      <td>0.0268</td>\n",
              "      <td>0.0295</td>\n",
              "    </tr>\n",
              "    <tr>\n",
              "      <th>Decision Tree</th>\n",
              "      <td>1.0000</td>\n",
              "      <td>0.8356</td>\n",
              "      <td>1.0000</td>\n",
              "      <td>0.8698</td>\n",
              "      <td>1.0000</td>\n",
              "      <td>0.8359</td>\n",
              "      <td>1.0000</td>\n",
              "      <td>0.9068</td>\n",
              "      <td>0.0323</td>\n",
              "      <td>0.0178</td>\n",
              "    </tr>\n",
              "  </tbody>\n",
              "</table>\n",
              "</div>"
            ],
            "text/plain": [
              "                          mean_train_accuracy  mean_test_accuracy  \\\n",
              "Dummy                                  0.6579              0.6579   \n",
              "Logistic Regression                    0.8793              0.7647   \n",
              "RBF SVM                                0.8622              0.7803   \n",
              "Random Forest Classifier               1.0000              0.8211   \n",
              "KNN                                    0.8733              0.8247   \n",
              "Decision Tree                          1.0000              0.8356   \n",
              "\n",
              "                          mean_train_f1  mean_test_f1  mean_train_recall  \\\n",
              "Dummy                            0.7936        0.7936             1.0000   \n",
              "Logistic Regression              0.9023        0.8146             0.8472   \n",
              "RBF SVM                          0.8882        0.8241             0.8317   \n",
              "Random Forest Classifier         1.0000        0.8713             1.0000   \n",
              "KNN                              0.9053        0.8682             0.9202   \n",
              "Decision Tree                    1.0000        0.8698             1.0000   \n",
              "\n",
              "                          mean_test_recall  mean_train_precision  \\\n",
              "Dummy                               1.0000                0.6579   \n",
              "Logistic Regression                 0.7865                0.9652   \n",
              "RBF SVM                             0.7829                0.9529   \n",
              "Random Forest Classifier            0.9216                1.0000   \n",
              "KNN                                 0.8778                0.8913   \n",
              "Decision Tree                       0.8359                1.0000   \n",
              "\n",
              "                          mean_test_precision  mean_fit_time (s)  \\\n",
              "Dummy                                  0.6579             0.0012   \n",
              "Logistic Regression                    0.8450             0.0601   \n",
              "RBF SVM                                0.8704             0.0479   \n",
              "Random Forest Classifier               0.8267             0.2906   \n",
              "KNN                                    0.8592             0.0268   \n",
              "Decision Tree                          0.9068             0.0323   \n",
              "\n",
              "                          mean_score_time (s)  \n",
              "Dummy                                  0.0039  \n",
              "Logistic Regression                    0.0203  \n",
              "RBF SVM                                0.0213  \n",
              "Random Forest Classifier               0.0335  \n",
              "KNN                                    0.0295  \n",
              "Decision Tree                          0.0178  "
            ]
          },
          "execution_count": 73,
          "metadata": {},
          "output_type": "execute_result"
        }
      ],
      "source": [
        "results_dict = {'Dummy': {'mean_train_accuracy': round(dummy_scores[\"train_accuracy\"].mean(),4),\n",
        "                          'mean_test_accuracy': round(dummy_scores[\"test_accuracy\"].mean(),4),\n",
        "                          'mean_train_f1' :round(dummy_scores[\"train_f1\"].mean(),4),\n",
        "                               'mean_test_f1' : round(dummy_scores[\"test_f1\"].mean(),4),\n",
        "                               'mean_train_recall' :round(dummy_scores[\"train_recall\"].mean(),4),\n",
        "                               'mean_test_recall': round(dummy_scores[\"test_recall\"].mean(),4),\n",
        "                               'mean_train_precision': round(dummy_scores[\"train_precision\"].mean(),4),\n",
        "                               'mean_test_precision': round(dummy_scores[\"test_precision\"].mean(),4),\n",
        "                          'mean_fit_time (s)': round(dummy_scores[\"fit_time\"].mean(),4),\n",
        "                          'mean_score_time (s)': round(dummy_scores[\"score_time\"].mean(),4)}}\n",
        "\n",
        "\n",
        "\n",
        "\n",
        "\n",
        "models = {\"Logistic Regression\": LogisticRegression(class_weight=\"balanced\"),\"RBF SVM\": SVC(class_weight=\"balanced\"),\"Random Forest Classifier\": RandomForestClassifier(class_weight=\"balanced\"),\n",
        "          \"KNN\": KNeighborsClassifier(), \"Decision Tree\" : DecisionTreeClassifier(class_weight=\"balanced\")}\n",
        "\n",
        "for model_name, model in models.items():\n",
        "    print(model_name, \":\")\n",
        "\n",
        "    pipe = make_pipeline(preprocessor, model)\n",
        "\n",
        "    scores = cross_validate(pipe, X_train, y_train, cv=5, return_train_score=True,scoring = ['accuracy','f1','recall','precision'])\n",
        "\n",
        "    results_dict[model_name] ={'mean_train_accuracy': scores[\"train_accuracy\"].mean().round(4),\n",
        "                               'mean_test_accuracy': scores[\"test_accuracy\"].mean().round(4),\n",
        "                               'mean_train_f1' :scores[\"train_f1\"].mean().round(4),\n",
        "                               'mean_test_f1' : scores[\"test_f1\"].mean().round(4),\n",
        "                               'mean_train_recall' :scores[\"train_recall\"].mean().round(4),\n",
        "                               'mean_test_recall': scores[\"test_recall\"].mean().round(4),\n",
        "                               'mean_train_precision': scores[\"train_precision\"].mean().round(4),\n",
        "                               'mean_test_precision': scores[\"test_precision\"].mean().round(4),\n",
        "                               'mean_fit_time (s)': scores[\"fit_time\"].mean().round(4),\n",
        "                               'mean_score_time (s)': scores[\"score_time\"].mean().round(4)\n",
        "                               }\n",
        "\n",
        "results_df = pd.DataFrame(results_dict).T\n",
        "results_df"
      ]
    },
    {
      "cell_type": "markdown",
      "metadata": {
        "id": "H6LvjJn4fO0F"
      },
      "source": [
        "In the training dataset, our class target column had many more lower fat than higher fat examples.That is reffer to imbalance training data set, so I will use class_weight='balanced' for solving that issue.\n",
        "According to above scoring table, DecisionTreeClassifier has the highest validation score, and Knn, Random Forest Classifier,RBF SVM, and Logistic Regression are in nexet level. Suprisingly, Dummy classifier has the lowest score in this list!"
      ]
    },
    {
      "cell_type": "markdown",
      "metadata": {
        "id": "x0phiLLafO0F"
      },
      "source": [
        "I will tune hyperparameter for decisiontreeclassifier, knn and logestic regression for bulding models using f1 as scoring regulator and will compare scores."
      ]
    },
    {
      "cell_type": "code",
      "execution_count": null,
      "metadata": {
        "id": "Dsnskq1GfO0F",
        "outputId": "76470ddf-3502-4f0f-ea1d-dfb61404be9e"
      },
      "outputs": [
        {
          "name": "stdout",
          "output_type": "stream",
          "text": [
            "Fitting 5 folds for each of 6 candidates, totalling 30 fits\n"
          ]
        },
        {
          "data": {
            "text/plain": [
              "RandomizedSearchCV(cv=5,\n",
              "                   estimator=Pipeline(steps=[('columntransformer',\n",
              "                                              ColumnTransformer(transformers=[('pipeline-1',\n",
              "                                                                               Pipeline(steps=[('simpleimputer',\n",
              "                                                                                                SimpleImputer(strategy='most_frequent')),\n",
              "                                                                                               ('onehotencoder',\n",
              "                                                                                                OneHotEncoder(handle_unknown='ignore'))]),\n",
              "                                                                               ['ManufacturerProvCode',\n",
              "                                                                                'CategoryTypeEn',\n",
              "                                                                                'MilkTypeEn',\n",
              "                                                                                'CheeseName']),\n",
              "                                                                              ('pipeline-2',\n",
              "                                                                               Pipeline(steps=[(...\n",
              "                                                                                                                            'Milk',\n",
              "                                                                                                                            'Pasteurized',\n",
              "                                                                                                                            'Thermised']],\n",
              "                                                                                                               dtype=<class 'int'>))]),\n",
              "                                                                               ['MilkTreatmentTypeEn'])])),\n",
              "                                             ('decisiontreeclassifier',\n",
              "                                              DecisionTreeClassifier(class_weight='balanced'))]),\n",
              "                   n_iter=6, n_jobs=-1,\n",
              "                   param_distributions={'decisiontreeclassifier__max_depth': <scipy.stats._distn_infrastructure.rv_frozen object at 0x7fd7cad4e400>},\n",
              "                   return_train_score=True, scoring='f1', verbose=1)"
            ]
          },
          "execution_count": 93,
          "metadata": {},
          "output_type": "execute_result"
        }
      ],
      "source": [
        "param_grid = {\"decisiontreeclassifier__max_depth\": scipy.stats.randint(low=1, high=100)}\n",
        "\n",
        "dt_pipeline = make_pipeline(preprocessor,DecisionTreeClassifier(class_weight='balanced'))\n",
        "random_search_dt = RandomizedSearchCV(dt_pipeline, param_grid, cv=5, return_train_score=True,\n",
        "                           verbose=1, n_jobs=-1, scoring= 'f1', n_iter = 6)\n",
        "random_search_dt.fit(X_train, y_train)"
      ]
    },
    {
      "cell_type": "code",
      "execution_count": null,
      "metadata": {
        "id": "RHhLpWrhfO0G",
        "outputId": "2ca63cb6-6086-4b4c-a356-fc2755cd9548"
      },
      "outputs": [
        {
          "name": "stdout",
          "output_type": "stream",
          "text": [
            "1.0\n",
            "0.8603773584905661\n"
          ]
        }
      ],
      "source": [
        "best_model_dt = random_search_dt.best_estimator_\n",
        "best_model_dt.fit(X_train, y_train)\n",
        "training_score = random_search_dt.score(X_train, y_train)\n",
        "testing_score = random_search_dt.score(X_test, y_test)\n",
        "print(training_score)\n",
        "print(testing_score)"
      ]
    },
    {
      "cell_type": "code",
      "execution_count": null,
      "metadata": {
        "id": "L4aXWxZVfO0G",
        "outputId": "4faa65f8-c84a-4a51-c3b7-1f6a6f729148"
      },
      "outputs": [
        {
          "data": {
            "text/plain": [
              "<sklearn.metrics._plot.confusion_matrix.ConfusionMatrixDisplay at 0x7fd7cb08e4c0>"
            ]
          },
          "execution_count": 76,
          "metadata": {},
          "output_type": "execute_result"
        },
        {
          "data": {
            "image/png": "[encoded data removed]",
            "text/plain": [
              "<Figure size 432x288 with 2 Axes>"
            ]
          },
          "metadata": {
            "needs_background": "light"
          },
          "output_type": "display_data"
        }
      ],
      "source": [
        "cm_plot_dt = plot_confusion_matrix(random_search_dt, X_test, y_test,display_labels=[\"Lower Fat\", \"Higher Fat\"],normalize='all',cmap=\"PuRd\")\n",
        "cm_plot_dt"
      ]
    },
    {
      "cell_type": "code",
      "execution_count": null,
      "metadata": {
        "id": "uFG1jk_nfO0G",
        "outputId": "63d6c115-3528-4c3f-fd36-0abbb04bf1f1"
      },
      "outputs": [
        {
          "name": "stdout",
          "output_type": "stream",
          "text": [
            "              precision    recall  f1-score   support\n",
            "\n",
            "   Lower Fat     0.8906    0.8382    0.8636       136\n",
            "  Higher Fat     0.7284    0.8082    0.7662        73\n",
            "\n",
            "    accuracy                         0.8278       209\n",
            "   macro avg     0.8095    0.8232    0.8149       209\n",
            "weighted avg     0.8340    0.8278    0.8296       209\n",
            "\n"
          ]
        }
      ],
      "source": [
        "predicted_y = random_search_dt.predict(X_test)\n",
        "print(classification_report(y_test, predicted_y, digits=4,target_names=[\"Lower Fat\", \"Higher Fat\"]))"
      ]
    },
    {
      "cell_type": "markdown",
      "metadata": {
        "id": "DI70OcwEfO0G"
      },
      "source": [
        "Ovefitting might becase of small sample"
      ]
    },
    {
      "cell_type": "code",
      "execution_count": null,
      "metadata": {
        "id": "QMDFWSixfO0S",
        "outputId": "b46d0da3-165a-4263-f5fd-ac0519e72f9e"
      },
      "outputs": [
        {
          "name": "stdout",
          "output_type": "stream",
          "text": [
            "Fitting 5 folds for each of 10 candidates, totalling 50 fits\n"
          ]
        },
        {
          "data": {
            "text/plain": [
              "RandomizedSearchCV(cv=5,\n",
              "                   estimator=Pipeline(steps=[('columntransformer',\n",
              "                                              ColumnTransformer(transformers=[('pipeline-1',\n",
              "                                                                               Pipeline(steps=[('simpleimputer',\n",
              "                                                                                                SimpleImputer(strategy='most_frequent')),\n",
              "                                                                                               ('onehotencoder',\n",
              "                                                                                                OneHotEncoder(handle_unknown='ignore'))]),\n",
              "                                                                               ['ManufacturerProvCode',\n",
              "                                                                                'CategoryTypeEn',\n",
              "                                                                                'MilkTypeEn',\n",
              "                                                                                'CheeseName']),\n",
              "                                                                              ('pipeline-2',\n",
              "                                                                               Pipeline(steps=[(...\n",
              "                   param_distributions={'kneighborsclassifier__n_neighbors': array([ 1,  2,  3,  4,  5,  6,  7,  8,  9, 10, 11, 12, 13, 14, 15, 16, 17,\n",
              "       18, 19, 20, 21, 22, 23, 24, 25, 26, 27, 28, 29, 30, 31, 32, 33, 34,\n",
              "       35, 36, 37, 38, 39, 40, 41, 42, 43, 44, 45, 46, 47, 48, 49, 50, 51,\n",
              "       52, 53, 54, 55, 56, 57, 58, 59, 60, 61, 62, 63, 64, 65, 66, 67, 68,\n",
              "       69, 70, 71, 72, 73, 74, 75, 76, 77, 78, 79, 80, 81, 82, 83, 84, 85,\n",
              "       86, 87, 88, 89, 90, 91, 92, 93, 94, 95, 96, 97, 98, 99]),\n",
              "                                        'kneighborsclassifier__weights': ['uniform',\n",
              "                                                                          'distance']},\n",
              "                   scoring='f1', verbose=1)"
            ]
          },
          "execution_count": 78,
          "metadata": {},
          "output_type": "execute_result"
        }
      ],
      "source": [
        "param_dist = {\"kneighborsclassifier__n_neighbors\" : np.arange(1, 100),\n",
        "             \"kneighborsclassifier__weights\" : ['uniform', 'distance']}\n",
        "\n",
        "knn_pipeline = make_pipeline(preprocessor,KNeighborsClassifier())\n",
        "random_search_knn = RandomizedSearchCV(knn_pipeline, param_dist, cv=5, verbose=1, n_jobs=-1,scoring =\"f1\", n_iter=10)\n",
        "random_search_knn.fit(X_train, y_train)"
      ]
    },
    {
      "cell_type": "code",
      "execution_count": null,
      "metadata": {
        "id": "4buPv2QmfO0S",
        "outputId": "0708dbb7-10be-485d-9172-1174575c75f7"
      },
      "outputs": [
        {
          "name": "stdout",
          "output_type": "stream",
          "text": [
            "1.0\n",
            "0.8409090909090909\n"
          ]
        }
      ],
      "source": [
        "best_model_knn = random_search_knn.best_estimator_\n",
        "best_model_knn.fit(X_train, y_train)\n",
        "training_score = random_search_knn.score(X_train, y_train)\n",
        "testing_score = random_search_knn.score(X_test, y_test)\n",
        "print(training_score)\n",
        "print(testing_score)"
      ]
    },
    {
      "cell_type": "code",
      "execution_count": null,
      "metadata": {
        "id": "yYAMKD8ZfO0S",
        "outputId": "24d375c7-bb44-497c-af9f-38a0548b43a4"
      },
      "outputs": [
        {
          "data": {
            "text/plain": [
              "<sklearn.metrics._plot.confusion_matrix.ConfusionMatrixDisplay at 0x7fd7caec03a0>"
            ]
          },
          "execution_count": 81,
          "metadata": {},
          "output_type": "execute_result"
        },
        {
          "data": {
            "image/png": "[encoded data removed]",
            "text/plain": [
              "<Figure size 432x288 with 2 Axes>"
            ]
          },
          "metadata": {
            "needs_background": "light"
          },
          "output_type": "display_data"
        }
      ],
      "source": [
        "cm_plot_knn = plot_confusion_matrix(random_search_knn, X_test, y_test,display_labels=[\"Lower Fat\", \"Higher Fat\"],normalize='all',cmap=\"PuRd\")\n",
        "cm_plot_knn"
      ]
    },
    {
      "cell_type": "code",
      "execution_count": null,
      "metadata": {
        "id": "2q6HBodhfO0T",
        "outputId": "92ee1758-21e4-4f30-eace-e36d3b5a150e"
      },
      "outputs": [
        {
          "name": "stdout",
          "output_type": "stream",
          "text": [
            "              precision    recall  f1-score   support\n",
            "\n",
            "   Lower Fat     0.8672    0.8162    0.8409       136\n",
            "  Higher Fat     0.6914    0.7671    0.7273        73\n",
            "\n",
            "    accuracy                         0.7990       209\n",
            "   macro avg     0.7793    0.7916    0.7841       209\n",
            "weighted avg     0.8058    0.7990    0.8012       209\n",
            "\n"
          ]
        }
      ],
      "source": [
        "predicted_y = random_search_knn.predict(X_test)\n",
        "print(classification_report(y_test, predicted_y, digits=4,target_names=[\"Lower Fat\", \"Higher Fat\"]))"
      ]
    },
    {
      "cell_type": "markdown",
      "metadata": {
        "id": "95_dQ4odfO0T"
      },
      "source": [
        "Balanced logistic regression model has better mean validation accuracy than the dummy classifier.Also, balanced logistic regression model shows higher validation precision scores than validation recall scores."
      ]
    },
    {
      "cell_type": "code",
      "execution_count": null,
      "metadata": {
        "id": "3iK15nymfO0T",
        "outputId": "718dbd15-2272-4764-a670-ed6ac91f8229"
      },
      "outputs": [
        {
          "name": "stdout",
          "output_type": "stream",
          "text": [
            "Fitting 5 folds for each of 10 candidates, totalling 50 fits\n",
            "[CV 1/5] END logisticregression__C=69.64691855978616;, score=(train=1.000, test=0.845) total time=   0.1s\n",
            "[CV 2/5] END logisticregression__C=69.64691855978616;, score=(train=1.000, test=0.851) total time=   0.1s\n",
            "[CV 3/5] END logisticregression__C=69.64691855978616;, score=(train=1.000, test=0.807) total time=   0.1s\n",
            "[CV 4/5] END logisticregression__C=69.64691855978616;, score=(train=1.000, test=0.843) total time=   0.1s\n",
            "[CV 5/5] END logisticregression__C=69.64691855978616;, score=(train=1.000, test=0.806) total time=   0.1s\n",
            "[CV 1/5] END logisticregression__C=28.613933495037948;, score=(train=1.000, test=0.840) total time=   0.1s\n",
            "[CV 2/5] END logisticregression__C=28.613933495037948;, score=(train=1.000, test=0.855) total time=   0.1s\n",
            "[CV 3/5] END logisticregression__C=28.613933495037948;, score=(train=1.000, test=0.798) total time=   0.1s\n",
            "[CV 4/5] END logisticregression__C=28.613933495037948;, score=(train=1.000, test=0.837) total time=   0.1s\n",
            "[CV 5/5] END logisticregression__C=28.613933495037948;, score=(train=1.000, test=0.806) total time=   0.1s\n",
            "[CV 1/5] END logisticregression__C=22.68514535642031;, score=(train=1.000, test=0.844) total time=   0.1s\n",
            "[CV 2/5] END logisticregression__C=22.68514535642031;, score=(train=1.000, test=0.855) total time=   0.1s\n",
            "[CV 3/5] END logisticregression__C=22.68514535642031;, score=(train=1.000, test=0.802) total time=   0.1s\n",
            "[CV 4/5] END logisticregression__C=22.68514535642031;, score=(train=1.000, test=0.837) total time=   0.1s\n",
            "[CV 5/5] END logisticregression__C=22.68514535642031;, score=(train=1.000, test=0.806) total time=   0.1s\n",
            "[CV 1/5] END logisticregression__C=55.13147690828912;, score=(train=1.000, test=0.840) total time=   0.1s\n",
            "[CV 2/5] END logisticregression__C=55.13147690828912;, score=(train=1.000, test=0.851) total time=   0.1s\n",
            "[CV 3/5] END logisticregression__C=55.13147690828912;, score=(train=1.000, test=0.807) total time=   0.1s\n",
            "[CV 4/5] END logisticregression__C=55.13147690828912;, score=(train=1.000, test=0.843) total time=   0.1s\n",
            "[CV 5/5] END logisticregression__C=55.13147690828912;, score=(train=1.000, test=0.806) total time=   0.1s\n",
            "[CV 1/5] END logisticregression__C=71.94689697855631;, score=(train=1.000, test=0.845) total time=   0.1s\n",
            "[CV 2/5] END logisticregression__C=71.94689697855631;, score=(train=1.000, test=0.851) total time=   0.1s\n",
            "[CV 3/5] END logisticregression__C=71.94689697855631;, score=(train=1.000, test=0.807) total time=   0.1s\n",
            "[CV 4/5] END logisticregression__C=71.94689697855631;, score=(train=1.000, test=0.843) total time=   0.1s\n",
            "[CV 5/5] END logisticregression__C=71.94689697855631;, score=(train=1.000, test=0.806) total time=   0.1s\n",
            "[CV 1/5] END logisticregression__C=42.3106460124461;, score=(train=1.000, test=0.840) total time=   0.1s\n",
            "[CV 2/5] END logisticregression__C=42.3106460124461;, score=(train=1.000, test=0.855) total time=   0.1s\n",
            "[CV 3/5] END logisticregression__C=42.3106460124461;, score=(train=1.000, test=0.804) total time=   0.1s\n",
            "[CV 4/5] END logisticregression__C=42.3106460124461;, score=(train=1.000, test=0.837) total time=   0.1s\n",
            "[CV 5/5] END logisticregression__C=42.3106460124461;, score=(train=1.000, test=0.806) total time=   0.1s\n",
            "[CV 1/5] END logisticregression__C=98.07641983846155;, score=(train=1.000, test=0.851) total time=   0.1s\n",
            "[CV 2/5] END logisticregression__C=98.07641983846155;, score=(train=1.000, test=0.847) total time=   0.1s\n",
            "[CV 3/5] END logisticregression__C=98.07641983846155;, score=(train=1.000, test=0.804) total time=   0.1s\n",
            "[CV 4/5] END logisticregression__C=98.07641983846155;, score=(train=1.000, test=0.843) total time=   0.1s\n",
            "[CV 5/5] END logisticregression__C=98.07641983846155;, score=(train=1.000, test=0.806) total time=   0.1s\n",
            "[CV 1/5] END logisticregression__C=68.48297385848633;, score=(train=1.000, test=0.845) total time=   0.1s\n",
            "[CV 2/5] END logisticregression__C=68.48297385848633;, score=(train=1.000, test=0.851) total time=   0.1s\n",
            "[CV 3/5] END logisticregression__C=68.48297385848633;, score=(train=1.000, test=0.807) total time=   0.1s\n",
            "[CV 4/5] END logisticregression__C=68.48297385848633;, score=(train=1.000, test=0.843) total time=   0.1s\n",
            "[CV 5/5] END logisticregression__C=68.48297385848633;, score=(train=1.000, test=0.806) total time=   0.1s\n",
            "[CV 1/5] END logisticregression__C=48.09319014843609;, score=(train=1.000, test=0.840) total time=   0.1s\n",
            "[CV 2/5] END logisticregression__C=48.09319014843609;, score=(train=1.000, test=0.851) total time=   0.1s\n",
            "[CV 3/5] END logisticregression__C=48.09319014843609;, score=(train=1.000, test=0.807) total time=   0.1s\n",
            "[CV 4/5] END logisticregression__C=48.09319014843609;, score=(train=1.000, test=0.837) total time=   0.1s\n",
            "[CV 5/5] END logisticregression__C=48.09319014843609;, score=(train=1.000, test=0.806) total time=   0.1s\n",
            "[CV 1/5] END logisticregression__C=39.211751819415056;, score=(train=1.000, test=0.840) total time=   0.1s\n",
            "[CV 2/5] END logisticregression__C=39.211751819415056;, score=(train=1.000, test=0.855) total time=   0.1s\n",
            "[CV 3/5] END logisticregression__C=39.211751819415056;, score=(train=1.000, test=0.798) total time=   0.1s\n",
            "[CV 4/5] END logisticregression__C=39.211751819415056;, score=(train=1.000, test=0.837) total time=   0.1s\n",
            "[CV 5/5] END logisticregression__C=39.211751819415056;, score=(train=1.000, test=0.806) total time=   0.1s\n"
          ]
        },
        {
          "data": {
            "text/plain": [
              "RandomizedSearchCV(cv=5,\n",
              "                   estimator=Pipeline(steps=[('columntransformer',\n",
              "                                              ColumnTransformer(transformers=[('pipeline-1',\n",
              "                                                                               Pipeline(steps=[('simpleimputer',\n",
              "                                                                                                SimpleImputer(strategy='most_frequent')),\n",
              "                                                                                               ('onehotencoder',\n",
              "                                                                                                OneHotEncoder(handle_unknown='ignore'))]),\n",
              "                                                                               ['ManufacturerProvCode',\n",
              "                                                                                'CategoryTypeEn',\n",
              "                                                                                'MilkTypeEn',\n",
              "                                                                                'CheeseName']),\n",
              "                                                                              ('pipeline-2',\n",
              "                                                                               Pipeline(steps=[(...\n",
              "                                                                                                                            'Pasteurized',\n",
              "                                                                                                                            'Thermised']],\n",
              "                                                                                                               dtype=<class 'int'>))]),\n",
              "                                                                               ['MilkTreatmentTypeEn'])])),\n",
              "                                             ('logisticregression',\n",
              "                                              LogisticRegression(class_weight='balanced',\n",
              "                                                                 max_iter=2000))]),\n",
              "                   n_jobs=-1,\n",
              "                   param_distributions={'logisticregression__C': <scipy.stats._distn_infrastructure.rv_frozen object at 0x7fd7cae3fee0>},\n",
              "                   random_state=123, return_train_score=True, scoring='f1',\n",
              "                   verbose=3)"
            ]
          },
          "execution_count": 89,
          "metadata": {},
          "output_type": "execute_result"
        }
      ],
      "source": [
        "param_grid = {\"logisticregression__C\": scipy.stats.uniform(0, 100)}\n",
        "main_pipe = make_pipeline(preprocessor, LogisticRegression(class_weight = \"balanced\",max_iter=2000))\n",
        "random_search_lr = RandomizedSearchCV(main_pipe,param_grid,n_iter=10,cv =5, random_state= 123, n_jobs=-1,scoring =\"f1\", verbose=3,return_train_score=True  )\n",
        "random_search_lr.fit(X_train, y_train)"
      ]
    },
    {
      "cell_type": "code",
      "execution_count": null,
      "metadata": {
        "id": "HFI60bFcfO0T",
        "outputId": "1c2918e5-ee0c-478c-c602-e89b4c4cbfef"
      },
      "outputs": [
        {
          "name": "stdout",
          "output_type": "stream",
          "text": [
            "1.0\n",
            "0.8339483394833948\n"
          ]
        }
      ],
      "source": [
        "best_model_lr = random_search_lr.best_estimator_\n",
        "best_model_lr.fit(X_train, y_train)\n",
        "training_score_lr = random_search_lr.score(X_train, y_train)\n",
        "testing_score_lr = random_search_lr.score(X_test, y_test)\n",
        "print(training_score_lr)\n",
        "print(testing_score_lr)"
      ]
    },
    {
      "cell_type": "code",
      "execution_count": null,
      "metadata": {
        "id": "bf2Veyu2fO0T",
        "outputId": "04b5f1fb-0f75-407c-de47-26d6357233e2"
      },
      "outputs": [
        {
          "data": {
            "text/plain": [
              "<sklearn.metrics._plot.confusion_matrix.ConfusionMatrixDisplay at 0x7fd7cae8b2b0>"
            ]
          },
          "execution_count": 91,
          "metadata": {},
          "output_type": "execute_result"
        },
        {
          "data": {
            "image/png": "[encoded data removed]",
            "text/plain": [
              "<Figure size 432x288 with 2 Axes>"
            ]
          },
          "metadata": {
            "needs_background": "light"
          },
          "output_type": "display_data"
        }
      ],
      "source": [
        "cm_plot_lr = plot_confusion_matrix(random_search_lr, X_test, y_test,display_labels=[\"Lower Fat\", \"Higher Fat\"], normalize='all',cmap=\"PuRd\")\n",
        "cm_plot_lr"
      ]
    },
    {
      "cell_type": "code",
      "execution_count": null,
      "metadata": {
        "id": "JAYRynUTfO0U",
        "outputId": "41a6bd1b-08b8-49a6-9c7f-4730fe111664"
      },
      "outputs": [
        {
          "name": "stdout",
          "output_type": "stream",
          "text": [
            "              precision    recall  f1-score   support\n",
            "\n",
            "   Lower Fat     0.8370    0.8309    0.8339       136\n",
            "  Higher Fat     0.6892    0.6986    0.6939        73\n",
            "\n",
            "    accuracy                         0.7847       209\n",
            "   macro avg     0.7631    0.7648    0.7639       209\n",
            "weighted avg     0.7854    0.7847    0.7850       209\n",
            "\n"
          ]
        }
      ],
      "source": [
        "predicted_y = random_search_lr.predict(X_test)\n",
        "print(classification_report(y_test, predicted_y, digits=4,target_names=[\"Lower Fat\", \"Higher Fat\"]))"
      ]
    },
    {
      "cell_type": "code",
      "execution_count": null,
      "metadata": {
        "id": "-8sdIiHzfO0U",
        "outputId": "adc6e7b2-b786-4713-d550-034866cdc15f"
      },
      "outputs": [
        {
          "name": "stdout",
          "output_type": "stream",
          "text": [
            "Fitting 5 folds for each of 50 candidates, totalling 250 fits\n"
          ]
        },
        {
          "data": {
            "text/plain": [
              "RandomizedSearchCV(cv=5,\n",
              "                   estimator=Pipeline(steps=[('columntransformer',\n",
              "                                              ColumnTransformer(transformers=[('pipeline-1',\n",
              "                                                                               Pipeline(steps=[('simpleimputer',\n",
              "                                                                                                SimpleImputer(strategy='most_frequent')),\n",
              "                                                                                               ('onehotencoder',\n",
              "                                                                                                OneHotEncoder(handle_unknown='ignore'))]),\n",
              "                                                                               ['ManufacturerProvCode',\n",
              "                                                                                'CategoryTypeEn',\n",
              "                                                                                'MilkTypeEn',\n",
              "                                                                                'CheeseName']),\n",
              "                                                                              ('pipeline-2',\n",
              "                                                                               Pipeline(steps=[(...\n",
              "                                              RandomForestClassifier(class_weight='balanced',\n",
              "                                                                     random_state=123))]),\n",
              "                   n_iter=50, n_jobs=-1,\n",
              "                   param_distributions={'randomforestclassifier__max_depth': <scipy.stats._distn_infrastructure.rv_frozen object at 0x7fd7cae3f730>,\n",
              "                                        'randomforestclassifier__n_estimators': <scipy.stats._distn_infrastructure.rv_frozen object at 0x7fd7cad73c40>},\n",
              "                   random_state=123, scoring='f1', verbose=1)"
            ]
          },
          "execution_count": 98,
          "metadata": {},
          "output_type": "execute_result"
        }
      ],
      "source": [
        "rf_pipeline = make_pipeline(preprocessor, RandomForestClassifier(class_weight = \"balanced\", random_state=123))\n",
        "\n",
        "param_dist = {\"randomforestclassifier__n_estimators\": scipy.stats.randint(low=10, high=300),\n",
        "              \"randomforestclassifier__max_depth\": scipy.stats.randint(low=2, high=20)}\n",
        "\n",
        "random_search_rf = RandomizedSearchCV(rf_pipeline,param_dist,n_iter=50,cv=5,verbose=1,n_jobs=-1,scoring =\"f1\",random_state=123,)\n",
        "random_search_rf.fit(X_train, y_train)"
      ]
    },
    {
      "cell_type": "code",
      "execution_count": null,
      "metadata": {
        "id": "CETB8BkOfO0U",
        "outputId": "42fa5f88-7d64-457d-bed7-d33f03fd302f"
      },
      "outputs": [
        {
          "name": "stdout",
          "output_type": "stream",
          "text": [
            "0.9138576779026217\n",
            "0.8178438661710037\n"
          ]
        }
      ],
      "source": [
        "best_model_rf = random_search_rf.best_estimator_\n",
        "best_model_rf.fit(X_train, y_train)\n",
        "training_score_rf = random_search_rf.score(X_train, y_train)\n",
        "testing_score_rf = random_search_rf.score(X_test, y_test)\n",
        "print(training_score_rf)\n",
        "print(testing_score_rf)"
      ]
    },
    {
      "cell_type": "code",
      "execution_count": null,
      "metadata": {
        "id": "v-lPrQ_5fO0U",
        "outputId": "db2b0108-9bb3-46e9-9c19-e381bb01655d"
      },
      "outputs": [
        {
          "data": {
            "text/plain": [
              "<sklearn.metrics._plot.confusion_matrix.ConfusionMatrixDisplay at 0x7fd7d81fb6a0>"
            ]
          },
          "execution_count": 100,
          "metadata": {},
          "output_type": "execute_result"
        },
        {
          "data": {
            "image/png": "[encoded data removed]",
            "text/plain": [
              "<Figure size 432x288 with 2 Axes>"
            ]
          },
          "metadata": {
            "needs_background": "light"
          },
          "output_type": "display_data"
        }
      ],
      "source": [
        "cm_plot_rf = plot_confusion_matrix(random_search_rf, X_test, y_test,display_labels=[\"Lower Fat\", \"Higher Fat\"],normalize='all',cmap=\"PuRd\")\n",
        "cm_plot_rf"
      ]
    },
    {
      "cell_type": "code",
      "execution_count": null,
      "metadata": {
        "id": "wMVeTqDCfO0U",
        "outputId": "344376f4-1a40-4ae2-9b28-714db63f3f57"
      },
      "outputs": [
        {
          "name": "stdout",
          "output_type": "stream",
          "text": [
            "              precision    recall  f1-score   support\n",
            "\n",
            "   Lower Fat     0.8271    0.8088    0.8178       136\n",
            "  Higher Fat     0.6579    0.6849    0.6711        73\n",
            "\n",
            "    accuracy                         0.7656       209\n",
            "   macro avg     0.7425    0.7469    0.7445       209\n",
            "weighted avg     0.7680    0.7656    0.7666       209\n",
            "\n"
          ]
        }
      ],
      "source": [
        "predicted_y = random_search_rf.predict(X_test)\n",
        "print(classification_report(y_test, predicted_y, digits=4,target_names=[\"Lower Fat\", \"Higher Fat\"]))"
      ]
    },
    {
      "cell_type": "code",
      "execution_count": null,
      "metadata": {
        "id": "40COMXQNfO0U",
        "outputId": "8b46c063-ff61-49be-8dc4-e4c8e761d076"
      },
      "outputs": [
        {
          "name": "stdout",
          "output_type": "stream",
          "text": [
            "Fitting 5 folds for each of 10 candidates, totalling 50 fits\n"
          ]
        },
        {
          "data": {
            "text/plain": [
              "RandomizedSearchCV(cv=5,\n",
              "                   estimator=Pipeline(steps=[('columntransformer',\n",
              "                                              ColumnTransformer(transformers=[('pipeline-1',\n",
              "                                                                               Pipeline(steps=[('simpleimputer',\n",
              "                                                                                                SimpleImputer(strategy='most_frequent')),\n",
              "                                                                                               ('onehotencoder',\n",
              "                                                                                                OneHotEncoder(handle_unknown='ignore'))]),\n",
              "                                                                               ['ManufacturerProvCode',\n",
              "                                                                                'CategoryTypeEn',\n",
              "                                                                                'MilkTypeEn',\n",
              "                                                                                'CheeseName']),\n",
              "                                                                              ('pipeline-2',\n",
              "                                                                               Pipeline(steps=[(...\n",
              "                                                                                                                            'Milk',\n",
              "                                                                                                                            'Pasteurized',\n",
              "                                                                                                                            'Thermised']],\n",
              "                                                                                                               dtype=<class 'int'>))]),\n",
              "                                                                               ['MilkTreatmentTypeEn'])])),\n",
              "                                             ('svc',\n",
              "                                              SVC(class_weight='balanced',\n",
              "                                                  random_state=123))]),\n",
              "                   n_jobs=-1,\n",
              "                   param_distributions={'svc__C': <scipy.stats._distn_infrastructure.rv_frozen object at 0x7fd7cae3f8e0>,\n",
              "                                        'svc__gamma': <scipy.stats._distn_infrastructure.rv_frozen object at 0x7fd7cae24760>},\n",
              "                   scoring='f1', verbose=1)"
            ]
          },
          "execution_count": 103,
          "metadata": {},
          "output_type": "execute_result"
        }
      ],
      "source": [
        "param_grid = {\"svc__C\": scipy.stats.uniform(0, 100),\"svc__gamma\": scipy.stats.uniform(0, 100)}\n",
        "\n",
        "svc_pipeline = make_pipeline(preprocessor,SVC(class_weight = \"balanced\", random_state=123))\n",
        "random_search_svc = RandomizedSearchCV(svc_pipeline, param_grid, cv=5, verbose=1, n_jobs=-1,scoring =\"f1\", n_iter=10)\n",
        "random_search_svc.fit(X_train, y_train)"
      ]
    },
    {
      "cell_type": "code",
      "execution_count": null,
      "metadata": {
        "id": "dvklWLbGfO0V",
        "outputId": "687cfc31-9fa2-4354-85af-17abe39b3c21"
      },
      "outputs": [
        {
          "name": "stdout",
          "output_type": "stream",
          "text": [
            "1.0\n",
            "0.856060606060606\n"
          ]
        }
      ],
      "source": [
        "best_model_svc = random_search_svc.best_estimator_\n",
        "best_model_svc.fit(X_train, y_train)\n",
        "training_score_svc = random_search_svc.score(X_train, y_train)\n",
        "testing_score_svc = random_search_svc.score(X_test, y_test)\n",
        "print(training_score_svc)\n",
        "print(testing_score_svc)"
      ]
    },
    {
      "cell_type": "code",
      "execution_count": null,
      "metadata": {
        "id": "j7tV9N5LfO0V",
        "outputId": "9618d4d3-8fc7-484e-de59-8258d235c51e"
      },
      "outputs": [
        {
          "data": {
            "text/plain": [
              "<sklearn.metrics._plot.confusion_matrix.ConfusionMatrixDisplay at 0x7fd7caf29400>"
            ]
          },
          "execution_count": 105,
          "metadata": {},
          "output_type": "execute_result"
        },
        {
          "data": {
            "image/png": "[encoded data removed]",
            "text/plain": [
              "<Figure size 432x288 with 2 Axes>"
            ]
          },
          "metadata": {
            "needs_background": "light"
          },
          "output_type": "display_data"
        }
      ],
      "source": [
        "cm_plot_svc = plot_confusion_matrix(random_search_svc, X_test, y_test,display_labels=[\"Lower Fat\", \"Higher Fat\"], normalize='all',cmap=\"PuRd\")\n",
        "cm_plot_svc"
      ]
    },
    {
      "cell_type": "code",
      "execution_count": null,
      "metadata": {
        "id": "RoHGiV2hfO0V",
        "outputId": "1fe62904-f3fb-4efc-b985-3abad961a4c0"
      },
      "outputs": [
        {
          "name": "stdout",
          "output_type": "stream",
          "text": [
            "              precision    recall  f1-score   support\n",
            "\n",
            "   Lower Fat     0.8828    0.8309    0.8561       136\n",
            "  Higher Fat     0.7160    0.7945    0.7532        73\n",
            "\n",
            "    accuracy                         0.8182       209\n",
            "   macro avg     0.7994    0.8127    0.8047       209\n",
            "weighted avg     0.8246    0.8182    0.8201       209\n",
            "\n"
          ]
        }
      ],
      "source": [
        "predicted_y = random_search_svc.predict(X_test)\n",
        "print(classification_report(y_test, predicted_y, digits=4,target_names=[\"Lower Fat\", \"Higher Fat\"]))"
      ]
    },
    {
      "cell_type": "markdown",
      "metadata": {
        "id": "MXzNb9t0fO0V"
      },
      "source": [
        "Since there is no imprtance score on a specific class, so weighted average will be a good choice for comparing. It seems `RandomForestClassifier` and `decisiontreeclassifier` models have the highest weighted avg. I am interested in digging more to find out why RandomForestClassifier won't preformed good after tuning hyperparameter.\n",
        "Considering that Lower Fat as \"positive\" class, we will have 136 example lower fat cheese and the below score table to compare:"
      ]
    },
    {
      "cell_type": "markdown",
      "metadata": {
        "id": "6Q7tFvnJfO0V"
      },
      "source": [
        "| Model                                         |Accrucy  |weighted avg Recall |weighted avg Precision\n",
        "|-----------------------------------------------|---------|------------------- |----------------------\n",
        "|Decision Tree                                  |0.8296   | 0.8395             |0.8949\n",
        "|<font color='green'>**dt_best model**</font>   |         | 0.8283             |0.8247\n",
        "| knn                                           | 0.8247  | 0.8778             |0.8592\n",
        "|knn_best model                                 |         | 0.8038             |0.8045\n",
        "|Logestic Regression                            | 0.7647  | 0.7865             |0.8450\n",
        "|Logestic Regression_best model                 |         | 0.7844             |0.7854  \n",
        "|RandomForestClassifier                         |0.8211   | 0.9216             |0.8592\n",
        "|RandomForestClassifier_best model              |         | 0.7656             |0.7680\n",
        "|RBF SVM                                        |0.7803   | 0.7829             |0.8704\n",
        "|RBF SVM_best model                             |         | 0.8182             |0.8246\n",
        ""
      ]
    },
    {
      "cell_type": "markdown",
      "metadata": {
        "id": "wGG8JRzPfO0W"
      },
      "source": [
        "Finally, we have belows as a best hyperparameter for `Desicision Tree` model and the accrucy on test data set is `0.8654`"
      ]
    },
    {
      "cell_type": "code",
      "execution_count": null,
      "metadata": {
        "id": "imqf0cvJfO0W",
        "outputId": "ba695ccf-dae6-4b8b-c86b-c48ce88137d2"
      },
      "outputs": [
        {
          "name": "stdout",
          "output_type": "stream",
          "text": [
            "{'decisiontreeclassifier__max_depth': 42} 0.8654368914975941\n"
          ]
        }
      ],
      "source": [
        "optimal_parameters = random_search_dt.best_params_\n",
        "optimal_score = random_search_dt.best_score_\n",
        "print(optimal_parameters, optimal_score)"
      ]
    },
    {
      "cell_type": "markdown",
      "metadata": {
        "id": "NeFKeV5MfO0W"
      },
      "source": [
        "## Discussion\n",
        "\n",
        "We have a data set for pedicting canadian cheese fat. It was a classification problem including two classes : Lower fat and Higher fat. From the visulisation, we can see this is a imbalance problem. The other thing is we have a significantly more examples from QC province, and I think that would impact to the result. Also we can see Industrial, pastorized, and cow has many more expamles as well.\n",
        "\n",
        "From the first score table, Decision tree was the best fit for the training data set. `DecisionTreeClassifier(class_weight='balanced',max_depth=42)`.\n",
        "At the end of the day, it make sense  that Decision tree classifer would be a good model, but we have overfiiting.\n",
        "On the other hande, RandomForestClassifier doesn't have overfitting issue however, will sacrefise high scores for tuning hyperparamete.  \n",
        "\n",
        "Since this was a classification problem with binary choices, I thought Logestic regression would be the best model. However, the table shows a different result. For tuning hyper parameter, I will use f1 score as the best score for tuning classification model. My second assupmtion that was rejectd by scoring table was SVC model ass the test score showed very low score for it.Eventhough the test score is good enough for Desicion Tree , we have overfitting. It might because of small size data set, however I would like to make sure if I didn't use irrelevent feature.\n",
        "\n",
        "\n",
        "For next steps, I will drop features one by one and will test how my model will performe. Also would like to check MAPE score on my models as well. Would my model have better hyperparameter or not? Would Logestig Regression be a better model?"
      ]
    },
    {
      "cell_type": "markdown",
      "metadata": {
        "id": "QCTGrVhufO0W"
      },
      "source": [
        "| Model                                         |Accrucy  |weighted avg Recall |weighted avg Precision\n",
        "|-----------------------------------------------|---------|------------------- |----------------------\n",
        "|Decision Tree                                  |0.8296   | 0.8395             |0.8949\n",
        "|<font color='green'>**dt_best model**</font>   |         | 0.8283             |0.8247\n",
        "| knn                                           | 0.8247  | 0.8778             |0.8592\n",
        "|knn_best model                                 |         | 0.8038             |0.8045\n",
        "|Logestic Regression                            | 0.7647  | 0.7865             |0.8450\n",
        "|Logestic Regression_best model                 |         | 0.7844             |0.7854             "
      ]
    },
    {
      "cell_type": "markdown",
      "metadata": {
        "id": "e-4oIMbAfO0W"
      },
      "source": [
        "## References\n",
        "\n",
        "### Resources used\n",
        "\n",
        "modified version of Canada's Open Government Portal\n",
        "\n",
        "Introduction of cheese\n",
        "https://en.wikipedia.org/wiki/Canadian_cheese"
      ]
    },
    {
      "cell_type": "code",
      "execution_count": null,
      "metadata": {
        "id": "zdJh1S6BfO0X"
      },
      "outputs": [],
      "source": []
    }
  ],
  "metadata": {
    "kernelspec": {
      "display_name": "Python 3",
      "language": "python",
      "name": "python3"
    },
    "language_info": {
      "codemirror_mode": {
        "name": "ipython",
        "version": 3
      },
      "file_extension": ".py",
      "mimetype": "text/x-python",
      "name": "python",
      "nbconvert_exporter": "python",
      "pygments_lexer": "ipython3",
      "version": "3.8.5"
    },
    "colab": {
      "provenance": []
    }
  },
  "nbformat": 4,
  "nbformat_minor": 0
}